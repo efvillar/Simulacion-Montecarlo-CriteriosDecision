{
 "cells": [
  {
   "cell_type": "markdown",
   "metadata": {},
   "source": [
    "# TAREA 4 - SIMULACIÓN MONTECARLO - SARTENES"
   ]
  },
  {
   "cell_type": "markdown",
   "metadata": {},
   "source": [
    "### Edwin Fernando Villarraga Ossa"
   ]
  },
  {
   "cell_type": "markdown",
   "metadata": {},
   "source": [
    "## Resumen del Problema"
   ]
  },
  {
   "cell_type": "markdown",
   "metadata": {},
   "source": [
    "\n",
    "\n",
    "### Variable de Salida\n",
    "- Utilidades del ejercicio.\n",
    "\n",
    "### Variables de Decisión\n",
    "-  ¿cuántos sartenes especiales comprar?\n",
    "\n",
    "\n",
    "### Variables Inciertas\n",
    "- La demanda sigue una normal con promedio 100 y desviación 25. Redondee esta variable a números enteros)\n",
    "\n",
    "- El precio de venta a la cadena de descuento sigue una distribución lognormal, con 𝜇 = 2.7 y 𝜎 = 0.008. (Esto implica que la media de la distribución sea de 15 y desviación estándar de 2). Redondee esta variable a dos decimales.\n",
    "\n",
    "\n",
    "### Variables Ciertas\n",
    "\n",
    "- Costo de sartenes especiales: 22 c/u\n",
    "\n",
    "- Costo de sartenes comunes de cobre: 32 c/u\n",
    "\n",
    "- Precio de venta de los sartenes: 35 c/u\n",
    "\n",
    "\n",
    "\n",
    "\n"
   ]
  },
  {
   "cell_type": "markdown",
   "metadata": {},
   "source": [
    "#### 1. Se cargan las librerías requeridas para hacer las simulaciones"
   ]
  },
  {
   "cell_type": "code",
   "execution_count": 105,
   "metadata": {},
   "outputs": [],
   "source": [
    "import pandas as pd\n",
    "import numpy as np\n",
    "import seaborn as sns\n",
    "import matplotlib.pyplot as plt\n",
    "from numpy import random\n",
    "from scipy import stats\n",
    "sns.set_style('whitegrid')"
   ]
  },
  {
   "cell_type": "markdown",
   "metadata": {},
   "source": [
    "#### 2. Se definen las variables aleatorias inciertas"
   ]
  },
  {
   "cell_type": "markdown",
   "metadata": {},
   "source": [
    "para efecto de reproducibilidad del documento se asigna un valor fijo para la semilla del algoritmo generador de números aleatorios"
   ]
  },
  {
   "cell_type": "code",
   "execution_count": 106,
   "metadata": {},
   "outputs": [],
   "source": [
    "random.seed(100)"
   ]
  },
  {
   "cell_type": "code",
   "execution_count": 107,
   "metadata": {},
   "outputs": [],
   "source": [
    "N = 1000   #número de datos a simular\n",
    "demanda = np.random.normal(loc=100, scale=25, size=N).round(0)\n",
    "precio_desc = np.random.lognormal(mean=2.7, sigma=0.008, size=N).round(2)"
   ]
  },
  {
   "cell_type": "markdown",
   "metadata": {},
   "source": [
    "a continuación se visualizan los primeros 10 datos de cada variable"
   ]
  },
  {
   "cell_type": "code",
   "execution_count": 108,
   "metadata": {},
   "outputs": [
    {
     "data": {
      "text/plain": [
       "array([ 56., 109., 129.,  94., 125., 113., 106.,  73.,  95.])"
      ]
     },
     "execution_count": 108,
     "metadata": {},
     "output_type": "execute_result"
    }
   ],
   "source": [
    "demanda[0:9]"
   ]
  },
  {
   "cell_type": "code",
   "execution_count": 109,
   "metadata": {},
   "outputs": [
    {
     "data": {
      "text/plain": [
       "array([14.85, 14.8 , 14.9 , 14.86, 15.01, 14.81, 15.  , 14.79, 15.07])"
      ]
     },
     "execution_count": 109,
     "metadata": {},
     "output_type": "execute_result"
    }
   ],
   "source": [
    "precio_desc[0:9]"
   ]
  },
  {
   "cell_type": "markdown",
   "metadata": {},
   "source": [
    "Cada vez que se corre el código, los datos de variables inciertas cambian, dado que los datos provienen de una simulación aleatoría"
   ]
  },
  {
   "cell_type": "markdown",
   "metadata": {},
   "source": [
    "#### 3. Se definen las variables ciertas"
   ]
  },
  {
   "cell_type": "code",
   "execution_count": 110,
   "metadata": {},
   "outputs": [],
   "source": [
    "costo_sarten_esp = 22\n",
    "costo_sarten_comun = 32\n",
    "precio_venta_sarten = 35"
   ]
  },
  {
   "cell_type": "markdown",
   "metadata": {},
   "source": [
    "#### 4. Se crea la simulación Montecarlo para un valor dado de la variable de decisión"
   ]
  },
  {
   "cell_type": "markdown",
   "metadata": {},
   "source": [
    "los resutados se guardan en un array numpy.  En la definición de variables se estableción que se realizarían 1000 iteraciones.  Se define la variable de decisión numero de sartenes a importar: dec_sartenes"
   ]
  },
  {
   "cell_type": "code",
   "execution_count": 111,
   "metadata": {},
   "outputs": [],
   "source": [
    "def utilidad_MC(N, N_sartenes):\n",
    "    '''\n",
    "    N: es el numero de iteraciones de la simulación Montecarlo.  se definió en la variables pero se puede modificar\n",
    "    N_sartenes: es el numero de sartenes a comprar, se definió externamente pero se puede modificar\n",
    "    '''\n",
    "    demanda = np.random.normal(loc=100, scale=25, size=N).round(0)\n",
    "    precio_desc = np.random.lognormal(mean=2.7, sigma=0.008, size=N).round(2)\n",
    "    df = pd.DataFrame(index=range(N), data={'demanda': demanda,\n",
    "                                               'precio_desc': precio_desc})\n",
    "    df['Sartenes_Comprados'] =N_sartenes\n",
    "    df['exceso_demanda'] = df['demanda']-N_sartenes\n",
    "    \n",
    "    df['utilidad_ed'] = np.where(df['exceso_demanda']>=0,N_sartenes*(35-22)+(df['demanda']-N_sartenes)*(35-32),0) #utilidades en \n",
    "    #caso de exceso de demanda\n",
    "    df['utilidad_dd'] = np.where(df['exceso_demanda']<0,df['demanda']*(35-22)+(N_sartenes-df['demanda'])*(df['precio_desc']-22),0) #utilidad en\n",
    "    #caso de exceso de demanda negativa  deficit de demanda\n",
    "    df['utilidad'] = df['utilidad_dd']+df['utilidad_ed']\n",
    "    \n",
    "    return df"
   ]
  },
  {
   "cell_type": "code",
   "execution_count": 112,
   "metadata": {},
   "outputs": [],
   "source": [
    "utilidad = utilidad_MC(N, N_sartenes=100)"
   ]
  },
  {
   "cell_type": "markdown",
   "metadata": {},
   "source": [
    "A continuación se muestrasn 5 filas del dataframe obtenido para el caso de comprar 100 sartenes"
   ]
  },
  {
   "cell_type": "code",
   "execution_count": 113,
   "metadata": {},
   "outputs": [
    {
     "data": {
      "text/html": [
       "<div>\n",
       "<style scoped>\n",
       "    .dataframe tbody tr th:only-of-type {\n",
       "        vertical-align: middle;\n",
       "    }\n",
       "\n",
       "    .dataframe tbody tr th {\n",
       "        vertical-align: top;\n",
       "    }\n",
       "\n",
       "    .dataframe thead th {\n",
       "        text-align: right;\n",
       "    }\n",
       "</style>\n",
       "<table border=\"1\" class=\"dataframe\">\n",
       "  <thead>\n",
       "    <tr style=\"text-align: right;\">\n",
       "      <th></th>\n",
       "      <th>demanda</th>\n",
       "      <th>precio_desc</th>\n",
       "      <th>Sartenes_Comprados</th>\n",
       "      <th>exceso_demanda</th>\n",
       "      <th>utilidad_ed</th>\n",
       "      <th>utilidad_dd</th>\n",
       "      <th>utilidad</th>\n",
       "    </tr>\n",
       "  </thead>\n",
       "  <tbody>\n",
       "    <tr>\n",
       "      <th>0</th>\n",
       "      <td>99.0</td>\n",
       "      <td>14.87</td>\n",
       "      <td>100</td>\n",
       "      <td>-1.0</td>\n",
       "      <td>0.0</td>\n",
       "      <td>1279.87</td>\n",
       "      <td>1279.87</td>\n",
       "    </tr>\n",
       "    <tr>\n",
       "      <th>1</th>\n",
       "      <td>87.0</td>\n",
       "      <td>15.17</td>\n",
       "      <td>100</td>\n",
       "      <td>-13.0</td>\n",
       "      <td>0.0</td>\n",
       "      <td>1042.21</td>\n",
       "      <td>1042.21</td>\n",
       "    </tr>\n",
       "    <tr>\n",
       "      <th>2</th>\n",
       "      <td>110.0</td>\n",
       "      <td>14.92</td>\n",
       "      <td>100</td>\n",
       "      <td>10.0</td>\n",
       "      <td>1330.0</td>\n",
       "      <td>0.00</td>\n",
       "      <td>1330.00</td>\n",
       "    </tr>\n",
       "    <tr>\n",
       "      <th>3</th>\n",
       "      <td>53.0</td>\n",
       "      <td>14.94</td>\n",
       "      <td>100</td>\n",
       "      <td>-47.0</td>\n",
       "      <td>0.0</td>\n",
       "      <td>357.18</td>\n",
       "      <td>357.18</td>\n",
       "    </tr>\n",
       "    <tr>\n",
       "      <th>4</th>\n",
       "      <td>64.0</td>\n",
       "      <td>14.71</td>\n",
       "      <td>100</td>\n",
       "      <td>-36.0</td>\n",
       "      <td>0.0</td>\n",
       "      <td>569.56</td>\n",
       "      <td>569.56</td>\n",
       "    </tr>\n",
       "  </tbody>\n",
       "</table>\n",
       "</div>"
      ],
      "text/plain": [
       "   demanda  precio_desc  Sartenes_Comprados  exceso_demanda  utilidad_ed  \\\n",
       "0     99.0        14.87                 100            -1.0          0.0   \n",
       "1     87.0        15.17                 100           -13.0          0.0   \n",
       "2    110.0        14.92                 100            10.0       1330.0   \n",
       "3     53.0        14.94                 100           -47.0          0.0   \n",
       "4     64.0        14.71                 100           -36.0          0.0   \n",
       "\n",
       "   utilidad_dd  utilidad  \n",
       "0      1279.87   1279.87  \n",
       "1      1042.21   1042.21  \n",
       "2         0.00   1330.00  \n",
       "3       357.18    357.18  \n",
       "4       569.56    569.56  "
      ]
     },
     "execution_count": 113,
     "metadata": {},
     "output_type": "execute_result"
    }
   ],
   "source": [
    "utilidad.head(5)"
   ]
  },
  {
   "cell_type": "markdown",
   "metadata": {},
   "source": [
    "### 5. Cálculo de simulación Montecarlo para tres niveles de variable de decisión"
   ]
  },
  {
   "cell_type": "markdown",
   "metadata": {},
   "source": [
    "Se evalúan los escenarios de utilidad esperada (ditribución de probabilidad) para los casos de comprar 95, 110 y 115 sartenes especiales.  En caso de requerirse más valores, simplemente se debe ampliar la cantidad de datos en el diccionario."
   ]
  },
  {
   "cell_type": "code",
   "execution_count": 114,
   "metadata": {},
   "outputs": [],
   "source": [
    "Opciones_Sartenes = {\"compra_95\":95, \"compra_110\":110, \"compra_115\":115}"
   ]
  },
  {
   "cell_type": "markdown",
   "metadata": {},
   "source": [
    "se crea un dataframe vacío para almacenar las simulaciones de utilidad"
   ]
  },
  {
   "cell_type": "code",
   "execution_count": 115,
   "metadata": {},
   "outputs": [],
   "source": [
    "simulaciones_utilidad=pd.DataFrame()"
   ]
  },
  {
   "cell_type": "code",
   "execution_count": 116,
   "metadata": {},
   "outputs": [
    {
     "data": {
      "text/plain": [
       "pandas.core.frame.DataFrame"
      ]
     },
     "execution_count": 116,
     "metadata": {},
     "output_type": "execute_result"
    }
   ],
   "source": [
    "type(simulaciones_utilidad)"
   ]
  },
  {
   "cell_type": "markdown",
   "metadata": {},
   "source": [
    "Mediante una iteración sobre el diccionario previamente creado, se llena el dataframe con los resultados de las simulaciones"
   ]
  },
  {
   "cell_type": "code",
   "execution_count": 117,
   "metadata": {},
   "outputs": [],
   "source": [
    "for k,v in Opciones_Sartenes.items():\n",
    "    #print(k)\n",
    "    #print(v)\n",
    "    utilidad_temp = utilidad_MC(N, N_sartenes=v)\n",
    "    simulaciones_utilidad[k]=utilidad_temp['utilidad']\n",
    "    "
   ]
  },
  {
   "cell_type": "code",
   "execution_count": 118,
   "metadata": {},
   "outputs": [
    {
     "data": {
      "text/html": [
       "<div>\n",
       "<style scoped>\n",
       "    .dataframe tbody tr th:only-of-type {\n",
       "        vertical-align: middle;\n",
       "    }\n",
       "\n",
       "    .dataframe tbody tr th {\n",
       "        vertical-align: top;\n",
       "    }\n",
       "\n",
       "    .dataframe thead th {\n",
       "        text-align: right;\n",
       "    }\n",
       "</style>\n",
       "<table border=\"1\" class=\"dataframe\">\n",
       "  <thead>\n",
       "    <tr style=\"text-align: right;\">\n",
       "      <th></th>\n",
       "      <th>compra_95</th>\n",
       "      <th>compra_110</th>\n",
       "      <th>compra_115</th>\n",
       "    </tr>\n",
       "  </thead>\n",
       "  <tbody>\n",
       "    <tr>\n",
       "      <th>0</th>\n",
       "      <td>382.82</td>\n",
       "      <td>1535.00</td>\n",
       "      <td>509.61</td>\n",
       "    </tr>\n",
       "    <tr>\n",
       "      <th>1</th>\n",
       "      <td>1316.00</td>\n",
       "      <td>1448.00</td>\n",
       "      <td>628.12</td>\n",
       "    </tr>\n",
       "    <tr>\n",
       "      <th>2</th>\n",
       "      <td>1175.33</td>\n",
       "      <td>881.90</td>\n",
       "      <td>1507.00</td>\n",
       "    </tr>\n",
       "    <tr>\n",
       "      <th>3</th>\n",
       "      <td>1093.74</td>\n",
       "      <td>781.68</td>\n",
       "      <td>791.85</td>\n",
       "    </tr>\n",
       "    <tr>\n",
       "      <th>4</th>\n",
       "      <td>1322.00</td>\n",
       "      <td>724.75</td>\n",
       "      <td>1510.00</td>\n",
       "    </tr>\n",
       "  </tbody>\n",
       "</table>\n",
       "</div>"
      ],
      "text/plain": [
       "   compra_95  compra_110  compra_115\n",
       "0     382.82     1535.00      509.61\n",
       "1    1316.00     1448.00      628.12\n",
       "2    1175.33      881.90     1507.00\n",
       "3    1093.74      781.68      791.85\n",
       "4    1322.00      724.75     1510.00"
      ]
     },
     "execution_count": 118,
     "metadata": {},
     "output_type": "execute_result"
    }
   ],
   "source": [
    "simulaciones_utilidad.head(5)"
   ]
  },
  {
   "cell_type": "markdown",
   "metadata": {},
   "source": [
    "### 6. Cálculos para la toma de decisiones"
   ]
  },
  {
   "cell_type": "markdown",
   "metadata": {},
   "source": [
    "#### Histograma de la utilidad en la compra de 95 sartenes"
   ]
  },
  {
   "cell_type": "code",
   "execution_count": 119,
   "metadata": {},
   "outputs": [
    {
     "data": {
      "text/plain": [
       "Text(0.5, 1.0, 'Histograma y Curva de Densidad de Frecuencia Compra de 95 Sartenes')"
      ]
     },
     "execution_count": 119,
     "metadata": {},
     "output_type": "execute_result"
    },
    {
     "data": {
      "image/png": "[encoded data removed]",
      "text/plain": [
       "<Figure size 432x288 with 1 Axes>"
      ]
     },
     "metadata": {},
     "output_type": "display_data"
    }
   ],
   "source": [
    "sns.distplot(simulaciones_utilidad['compra_95'])\n",
    "plt.title('Histograma y Curva de Densidad de Frecuencia Compra de 95 Sartenes', fontsize=15)"
   ]
  },
  {
   "cell_type": "markdown",
   "metadata": {},
   "source": [
    "#### Histograma de la utilidad en la compra de 110 sartenes"
   ]
  },
  {
   "cell_type": "code",
   "execution_count": 120,
   "metadata": {},
   "outputs": [
    {
     "data": {
      "text/plain": [
       "Text(0.5, 1.0, 'Histograma y Curva de Densidad de Frecuencia Compra de 110 Sartenes')"
      ]
     },
     "execution_count": 120,
     "metadata": {},
     "output_type": "execute_result"
    },
    {
     "data": {
      "image/png": "[encoded data removed]",
      "text/plain": [
       "<Figure size 432x288 with 1 Axes>"
      ]
     },
     "metadata": {},
     "output_type": "display_data"
    }
   ],
   "source": [
    "sns.distplot(simulaciones_utilidad['compra_110'])\n",
    "plt.title('Histograma y Curva de Densidad de Frecuencia Compra de 110 Sartenes', fontsize=15)"
   ]
  },
  {
   "cell_type": "markdown",
   "metadata": {},
   "source": [
    "#### Histograma de la utilidad en la compra de 115 sartenes"
   ]
  },
  {
   "cell_type": "code",
   "execution_count": 121,
   "metadata": {},
   "outputs": [
    {
     "data": {
      "text/plain": [
       "Text(0.5, 1.0, 'Histograma y Curva de Densidad de Frecuencia Compra de 110 Sartenes')"
      ]
     },
     "execution_count": 121,
     "metadata": {},
     "output_type": "execute_result"
    },
    {
     "data": {
      "image/png": "[encoded data removed]",
      "text/plain": [
       "<Figure size 432x288 with 1 Axes>"
      ]
     },
     "metadata": {},
     "output_type": "display_data"
    }
   ],
   "source": [
    "sns.distplot(simulaciones_utilidad['compra_115'])\n",
    "plt.title('Histograma y Curva de Densidad de Frecuencia Compra de 110 Sartenes', fontsize=15)"
   ]
  },
  {
   "cell_type": "code",
   "execution_count": null,
   "metadata": {},
   "outputs": [],
   "source": []
  },
  {
   "cell_type": "markdown",
   "metadata": {},
   "source": [
    "#### Valor Esperado, Desviación Estándar, Mímino, Máximo, Percentil 5"
   ]
  },
  {
   "cell_type": "code",
   "execution_count": 122,
   "metadata": {},
   "outputs": [
    {
     "data": {
      "text/plain": [
       "compra_95     1113.20319\n",
       "compra_110    1121.64391\n",
       "compra_115    1129.26938\n",
       "dtype: float64"
      ]
     },
     "execution_count": 122,
     "metadata": {},
     "output_type": "execute_result"
    }
   ],
   "source": [
    "Valor_Esperado = simulaciones_utilidad.mean()\n",
    "Valor_Esperado"
   ]
  },
  {
   "cell_type": "code",
   "execution_count": 123,
   "metadata": {},
   "outputs": [
    {
     "data": {
      "text/plain": [
       "compra_95     281.517747\n",
       "compra_110    375.088787\n",
       "compra_115    395.801597\n",
       "dtype: float64"
      ]
     },
     "execution_count": 123,
     "metadata": {},
     "output_type": "execute_result"
    }
   ],
   "source": [
    "Desv_estandar = simulaciones_utilidad.std()\n",
    "Desv_estandar"
   ]
  },
  {
   "cell_type": "code",
   "execution_count": 124,
   "metadata": {},
   "outputs": [
    {
     "data": {
      "text/plain": [
       "compra_95    -142.00\n",
       "compra_110   -246.60\n",
       "compra_115   -341.32\n",
       "dtype: float64"
      ]
     },
     "execution_count": 124,
     "metadata": {},
     "output_type": "execute_result"
    }
   ],
   "source": [
    "Minimo = simulaciones_utilidad.min()\n",
    "Minimo"
   ]
  },
  {
   "cell_type": "code",
   "execution_count": 125,
   "metadata": {},
   "outputs": [
    {
     "data": {
      "text/plain": [
       "compra_95     1535.0\n",
       "compra_110    1628.0\n",
       "compra_115    1708.0\n",
       "dtype: float64"
      ]
     },
     "execution_count": 125,
     "metadata": {},
     "output_type": "execute_result"
    }
   ],
   "source": [
    "Maximo = simulaciones_utilidad.max()\n",
    "Maximo"
   ]
  },
  {
   "cell_type": "code",
   "execution_count": 126,
   "metadata": {},
   "outputs": [
    {
     "data": {
      "text/plain": [
       "compra_95     526.738\n",
       "compra_110    421.425\n",
       "compra_115    376.551\n",
       "Name: 0.05, dtype: float64"
      ]
     },
     "execution_count": 126,
     "metadata": {},
     "output_type": "execute_result"
    }
   ],
   "source": [
    "Percentil_5 = simulaciones_utilidad.quantile(q=0.05, axis=0)\n",
    "Percentil_5"
   ]
  },
  {
   "cell_type": "markdown",
   "metadata": {},
   "source": [
    "A continuación la tabla que resumen los resultados obtenidos"
   ]
  },
  {
   "cell_type": "code",
   "execution_count": 136,
   "metadata": {},
   "outputs": [],
   "source": [
    "prob_menor_1000_95 = stats.percentileofscore(simulaciones_utilidad['compra_95'],1000)"
   ]
  },
  {
   "cell_type": "code",
   "execution_count": 137,
   "metadata": {},
   "outputs": [],
   "source": [
    "prob_menor_1000_110 =stats.percentileofscore(simulaciones_utilidad['compra_110'],1000)"
   ]
  },
  {
   "cell_type": "code",
   "execution_count": 138,
   "metadata": {},
   "outputs": [],
   "source": [
    "prob_menor_1000_115 = stats.percentileofscore(simulaciones_utilidad['compra_115'],1000)"
   ]
  },
  {
   "cell_type": "code",
   "execution_count": 130,
   "metadata": {},
   "outputs": [],
   "source": [
    "Resultados = pd.DataFrame()"
   ]
  },
  {
   "cell_type": "code",
   "execution_count": 139,
   "metadata": {},
   "outputs": [
    {
     "data": {
      "text/html": [
       "<div>\n",
       "<style scoped>\n",
       "    .dataframe tbody tr th:only-of-type {\n",
       "        vertical-align: middle;\n",
       "    }\n",
       "\n",
       "    .dataframe tbody tr th {\n",
       "        vertical-align: top;\n",
       "    }\n",
       "\n",
       "    .dataframe thead th {\n",
       "        text-align: right;\n",
       "    }\n",
       "</style>\n",
       "<table border=\"1\" class=\"dataframe\">\n",
       "  <thead>\n",
       "    <tr style=\"text-align: right;\">\n",
       "      <th></th>\n",
       "      <th>Valor_Esperado</th>\n",
       "      <th>Desv_estandar</th>\n",
       "      <th>Minimo</th>\n",
       "      <th>Maximo</th>\n",
       "      <th>Percentil_5</th>\n",
       "      <th>Prob_utilidad_menor_1000</th>\n",
       "    </tr>\n",
       "  </thead>\n",
       "  <tbody>\n",
       "    <tr>\n",
       "      <th>compra_95</th>\n",
       "      <td>1113.20319</td>\n",
       "      <td>281.517747</td>\n",
       "      <td>-142.00</td>\n",
       "      <td>1535.0</td>\n",
       "      <td>526.738</td>\n",
       "      <td>26.4</td>\n",
       "    </tr>\n",
       "    <tr>\n",
       "      <th>compra_110</th>\n",
       "      <td>1121.64391</td>\n",
       "      <td>375.088787</td>\n",
       "      <td>-246.60</td>\n",
       "      <td>1628.0</td>\n",
       "      <td>421.425</td>\n",
       "      <td>33.5</td>\n",
       "    </tr>\n",
       "    <tr>\n",
       "      <th>compra_115</th>\n",
       "      <td>1129.26938</td>\n",
       "      <td>395.801597</td>\n",
       "      <td>-341.32</td>\n",
       "      <td>1708.0</td>\n",
       "      <td>376.551</td>\n",
       "      <td>35.8</td>\n",
       "    </tr>\n",
       "  </tbody>\n",
       "</table>\n",
       "</div>"
      ],
      "text/plain": [
       "            Valor_Esperado  Desv_estandar  Minimo  Maximo  Percentil_5  \\\n",
       "compra_95       1113.20319     281.517747 -142.00  1535.0      526.738   \n",
       "compra_110      1121.64391     375.088787 -246.60  1628.0      421.425   \n",
       "compra_115      1129.26938     395.801597 -341.32  1708.0      376.551   \n",
       "\n",
       "            Prob_utilidad_menor_1000  \n",
       "compra_95                       26.4  \n",
       "compra_110                      33.5  \n",
       "compra_115                      35.8  "
      ]
     },
     "execution_count": 139,
     "metadata": {},
     "output_type": "execute_result"
    }
   ],
   "source": [
    "Resultados['Valor_Esperado'] = Valor_Esperado\n",
    "Resultados['Desv_estandar'] = Desv_estandar\n",
    "Resultados['Minimo'] = Minimo\n",
    "Resultados['Maximo'] = Maximo\n",
    "Resultados['Percentil_5'] = Percentil_5\n",
    "Resultados['Prob_utilidad_menor_1000']=prob_menor_1000_95\n",
    "Resultados.at['compra_110','Prob_utilidad_menor_1000'] = prob_menor_1000_110\n",
    "Resultados.at['compra_115','Prob_utilidad_menor_1000'] = prob_menor_1000_115\n",
    "Resultados"
   ]
  },
  {
   "cell_type": "markdown",
   "metadata": {},
   "source": [
    "### 7. Criterios de Decisión"
   ]
  },
  {
   "cell_type": "markdown",
   "metadata": {},
   "source": [
    "#### a) Dominancia estocástica"
   ]
  },
  {
   "cell_type": "code",
   "execution_count": 132,
   "metadata": {},
   "outputs": [
    {
     "data": {
      "image/png": "[encoded data removed]",
      "text/plain": [
       "<Figure size 432x288 with 1 Axes>"
      ]
     },
     "metadata": {},
     "output_type": "display_data"
    }
   ],
   "source": [
    "for col in simulaciones_utilidad:\n",
    "    sns.kdeplot(simulaciones_utilidad[col], cumulative= True)"
   ]
  },
  {
   "cell_type": "code",
   "execution_count": 133,
   "metadata": {},
   "outputs": [
    {
     "data": {
      "image/png": "[encoded data removed]",
      "text/plain": [
       "<Figure size 432x288 with 1 Axes>"
      ]
     },
     "metadata": {},
     "output_type": "display_data"
    }
   ],
   "source": [
    "for col in simulaciones_utilidad:\n",
    "    sns.kdeplot(simulaciones_utilidad[col], cumulative= False)"
   ]
  },
  {
   "cell_type": "markdown",
   "metadata": {},
   "source": [
    "De las gráficas anteriores se observa que no existe dominancia estocástica.  Sin embargo en torno a la utilidad de 1000, domina la opción de comprar 95 sartenes especiales."
   ]
  },
  {
   "cell_type": "markdown",
   "metadata": {},
   "source": [
    "#### B) Criterio Máximo Valor Esperado"
   ]
  },
  {
   "cell_type": "markdown",
   "metadata": {},
   "source": [
    "A continuación se cálcula el máximo valor esperado que corresponde a la opción de comprar 115 sartenes"
   ]
  },
  {
   "cell_type": "code",
   "execution_count": 141,
   "metadata": {},
   "outputs": [
    {
     "data": {
      "text/plain": [
       "1129.2693799999995"
      ]
     },
     "execution_count": 141,
     "metadata": {},
     "output_type": "execute_result"
    }
   ],
   "source": [
    "max(Resultados['Valor_Esperado'])"
   ]
  },
  {
   "cell_type": "markdown",
   "metadata": {},
   "source": [
    "#### C) Criterio Mínima Desviación Estándar"
   ]
  },
  {
   "cell_type": "markdown",
   "metadata": {},
   "source": [
    "A continuación se cálcula la mínima desviación estándar que corresponde a la opción de comprar 95 sartenes"
   ]
  },
  {
   "cell_type": "code",
   "execution_count": 143,
   "metadata": {},
   "outputs": [
    {
     "data": {
      "text/plain": [
       "281.5177471863983"
      ]
     },
     "execution_count": 143,
     "metadata": {},
     "output_type": "execute_result"
    }
   ],
   "source": [
    "min(Resultados['Desv_estandar'])"
   ]
  },
  {
   "cell_type": "markdown",
   "metadata": {},
   "source": [
    "#### D) Críterio pesimista maximin"
   ]
  },
  {
   "cell_type": "markdown",
   "metadata": {},
   "source": [
    "A continuación se cálcula el máximo de los mínimos corresponde a la opción de comprar 95 sartenes"
   ]
  },
  {
   "cell_type": "code",
   "execution_count": 145,
   "metadata": {},
   "outputs": [
    {
     "data": {
      "text/plain": [
       "-142.0"
      ]
     },
     "execution_count": 145,
     "metadata": {},
     "output_type": "execute_result"
    }
   ],
   "source": [
    "max(Resultados['Minimo'])"
   ]
  },
  {
   "cell_type": "markdown",
   "metadata": {},
   "source": [
    "#### E) Criterio Optimista maximax"
   ]
  },
  {
   "cell_type": "markdown",
   "metadata": {},
   "source": [
    "A continuación se cálcula el máximo de los máximos que corresponde a la opción de comprar 115 sartenes"
   ]
  },
  {
   "cell_type": "code",
   "execution_count": 146,
   "metadata": {},
   "outputs": [
    {
     "data": {
      "text/plain": [
       "1708.0"
      ]
     },
     "execution_count": 146,
     "metadata": {},
     "output_type": "execute_result"
    }
   ],
   "source": [
    "max(Resultados['Maximo'])"
   ]
  },
  {
   "cell_type": "markdown",
   "metadata": {},
   "source": [
    "#### F) Críterio 𝛼 −fractil"
   ]
  },
  {
   "cell_type": "markdown",
   "metadata": {},
   "source": [
    "A continuación se cálcula el valor mínimo con un alpha = 0.05. Bajo este criterio se elie la opción con mayor utilidad en el percentil 5.  En este caso corresponde a la opción de comprar 95 sartenes especiales"
   ]
  },
  {
   "cell_type": "code",
   "execution_count": 148,
   "metadata": {},
   "outputs": [
    {
     "data": {
      "text/plain": [
       "526.7380000000002"
      ]
     },
     "execution_count": 148,
     "metadata": {},
     "output_type": "execute_result"
    }
   ],
   "source": [
    "max(Resultados['Percentil_5'])"
   ]
  },
  {
   "cell_type": "markdown",
   "metadata": {},
   "source": [
    "#### G) Críterio 𝛽 −robustez"
   ]
  },
  {
   "cell_type": "markdown",
   "metadata": {},
   "source": [
    "Para una utilidad de 1000 se elige la opción cuya probabilidad de superar dicha meta sea mayor. Equivalente a minimizar la probabilidad de que la utilidad sea menor a 1000.  En este caso es mejor la opción de comprar 95 sartenes especiales."
   ]
  },
  {
   "cell_type": "code",
   "execution_count": 150,
   "metadata": {},
   "outputs": [
    {
     "data": {
      "text/plain": [
       "26.4"
      ]
     },
     "execution_count": 150,
     "metadata": {},
     "output_type": "execute_result"
    }
   ],
   "source": [
    "min(Resultados['Prob_utilidad_menor_1000'])"
   ]
  },
  {
   "cell_type": "markdown",
   "metadata": {},
   "source": [
    "## RESUMEN RESULTADOS DE CRÍTERIOS"
   ]
  },
  {
   "cell_type": "code",
   "execution_count": 151,
   "metadata": {},
   "outputs": [],
   "source": [
    "Criterios = ['Dominancia_Estocastica','Valor_Esperado','Desviacion_Estandar','Maximin','Maximax','𝛼−fractil','𝛽−robustez']\n",
    "Mejor_Opcion = ['Comprar_95','Comprar_115','Comprar_95','Comprar_95','Comprar_115','Comprar_95','Comprar_95']\n",
    "tuples=list(zip(Criterios,Mejor_Opcion))"
   ]
  },
  {
   "cell_type": "code",
   "execution_count": 152,
   "metadata": {},
   "outputs": [
    {
     "data": {
      "text/html": [
       "<div>\n",
       "<style scoped>\n",
       "    .dataframe tbody tr th:only-of-type {\n",
       "        vertical-align: middle;\n",
       "    }\n",
       "\n",
       "    .dataframe tbody tr th {\n",
       "        vertical-align: top;\n",
       "    }\n",
       "\n",
       "    .dataframe thead th {\n",
       "        text-align: right;\n",
       "    }\n",
       "</style>\n",
       "<table border=\"1\" class=\"dataframe\">\n",
       "  <thead>\n",
       "    <tr style=\"text-align: right;\">\n",
       "      <th></th>\n",
       "      <th>CRITERIO</th>\n",
       "      <th>DECISIÓN</th>\n",
       "    </tr>\n",
       "  </thead>\n",
       "  <tbody>\n",
       "    <tr>\n",
       "      <th>0</th>\n",
       "      <td>Dominancia_Estocastica</td>\n",
       "      <td>Comprar_95</td>\n",
       "    </tr>\n",
       "    <tr>\n",
       "      <th>1</th>\n",
       "      <td>Valor_Esperado</td>\n",
       "      <td>Comprar_115</td>\n",
       "    </tr>\n",
       "    <tr>\n",
       "      <th>2</th>\n",
       "      <td>Desviacion_Estandar</td>\n",
       "      <td>Comprar_95</td>\n",
       "    </tr>\n",
       "    <tr>\n",
       "      <th>3</th>\n",
       "      <td>Maximin</td>\n",
       "      <td>Comprar_95</td>\n",
       "    </tr>\n",
       "    <tr>\n",
       "      <th>4</th>\n",
       "      <td>Maximax</td>\n",
       "      <td>Comprar_115</td>\n",
       "    </tr>\n",
       "    <tr>\n",
       "      <th>5</th>\n",
       "      <td>𝛼−fractil</td>\n",
       "      <td>Comprar_95</td>\n",
       "    </tr>\n",
       "    <tr>\n",
       "      <th>6</th>\n",
       "      <td>𝛽−robustez</td>\n",
       "      <td>Comprar_95</td>\n",
       "    </tr>\n",
       "  </tbody>\n",
       "</table>\n",
       "</div>"
      ],
      "text/plain": [
       "                 CRITERIO     DECISIÓN\n",
       "0  Dominancia_Estocastica   Comprar_95\n",
       "1          Valor_Esperado  Comprar_115\n",
       "2     Desviacion_Estandar   Comprar_95\n",
       "3                 Maximin   Comprar_95\n",
       "4                 Maximax  Comprar_115\n",
       "5               𝛼−fractil   Comprar_95\n",
       "6              𝛽−robustez   Comprar_95"
      ]
     },
     "execution_count": 152,
     "metadata": {},
     "output_type": "execute_result"
    }
   ],
   "source": [
    "final=pd.DataFrame(tuples, columns = ['CRITERIO','DECISIÓN'])\n",
    "final"
   ]
  },
  {
   "cell_type": "markdown",
   "metadata": {},
   "source": [
    "Se elige la opción de comprar 95 sartenes especiales por tener el menor riesgo"
   ]
  }
 ],
 "metadata": {
  "kernelspec": {
   "display_name": "Python 3",
   "language": "python",
   "name": "python3"
  },
  "language_info": {
   "codemirror_mode": {
    "name": "ipython",
    "version": 3
   },
   "file_extension": ".py",
   "mimetype": "text/x-python",
   "name": "python",
   "nbconvert_exporter": "python",
   "pygments_lexer": "ipython3",
   "version": "3.7.3"
  }
 },
 "nbformat": 4,
 "nbformat_minor": 4
}
